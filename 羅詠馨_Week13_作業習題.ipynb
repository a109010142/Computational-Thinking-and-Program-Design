{
  "nbformat": 4,
  "nbformat_minor": 0,
  "metadata": {
    "kernelspec": {
      "display_name": "Python 3",
      "language": "python",
      "name": "python3"
    },
    "language_info": {
      "codemirror_mode": {
        "name": "ipython",
        "version": 3
      },
      "file_extension": ".py",
      "mimetype": "text/x-python",
      "name": "python",
      "nbconvert_exporter": "python",
      "pygments_lexer": "ipython3",
      "version": "3.8.5"
    },
    "colab": {
      "name": "羅詠馨 - Week13 - 作業習題.ipynb",
      "provenance": [],
      "collapsed_sections": [],
      "include_colab_link": true
    }
  },
  "cells": [
    {
      "cell_type": "markdown",
      "metadata": {
        "id": "view-in-github",
        "colab_type": "text"
      },
      "source": [
        "<a href=\"https://colab.research.google.com/github/a109010142/Computational-Thinking-and-Program-Design/blob/main/%E7%BE%85%E8%A9%A0%E9%A6%A8_Week13_%E4%BD%9C%E6%A5%AD%E7%BF%92%E9%A1%8C.ipynb\" target=\"_parent\"><img src=\"https://colab.research.google.com/assets/colab-badge.svg\" alt=\"Open In Colab\"/></a>"
      ]
    },
    {
      "cell_type": "markdown",
      "metadata": {
        "id": "-Nr2r-0Nes9g"
      },
      "source": [
        "**隨堂練習1： BMI 計算**\n",
        "\n",
        "請寫一個程式讓使用者輸入身高與體重，顯示BMI 值與肥胖程度。 BMI 等於體重（KG）除以身高（M）的平方，而BMI 與肥胖分類標準如下：\n",
        "\n",
        "若BMI 值小於18，則顯示「體重過輕」，否則若BMI 值小於24，則顯示「體重正常」，若BMI 值小於27，則顯示「體重過重」，否則顯示「體重肥胖」。"
      ]
    },
    {
      "cell_type": "code",
      "metadata": {
        "colab": {
          "base_uri": "https://localhost:8080/"
        },
        "id": "Ev_dDKLPes9i",
        "outputId": "fc51d8a6-8eae-4ac1-ff5a-652ad6853f1a"
      },
      "source": [
        "weight = float(input('輸入體重(KG):'))\n",
        "high = float(input('輸入身高(M):'))\n",
        "BMI = weight/(high*high)\n",
        "if BMI < 18:\n",
        "  print('體重過輕')\n",
        "elif BMI < 24:\n",
        "  print('體重正常')\n",
        "elif BMI < 27:\n",
        "  print('體重過重')\n",
        "else:\n",
        "  print('體重肥胖')\n"
      ],
      "execution_count": null,
      "outputs": [
        {
          "output_type": "stream",
          "text": [
            "輸入體重(KG):40\n",
            "輸入身高(M):1.5\n",
            "體重過輕\n"
          ],
          "name": "stdout"
        }
      ]
    },
    {
      "cell_type": "markdown",
      "metadata": {
        "id": "s_cS8QeNes9j"
      },
      "source": [
        "**隨堂練習2： 三一律(單向選擇、雙向與巢狀選擇、多向選擇)**\n",
        "\n",
        "請輸入一個數，然後判斷這個數是正數、是負數或者是零。"
      ]
    },
    {
      "cell_type": "code",
      "metadata": {
        "colab": {
          "base_uri": "https://localhost:8080/"
        },
        "id": "k06Ol9gKes9j",
        "outputId": "f0af23bd-1c44-4adb-f59a-fd93edaf0a41"
      },
      "source": [
        "num = float(input('請輸入一個數:'))\n",
        "if num < 0:\n",
        "  print('此數是負數')\n",
        "elif num ==0:\n",
        "  print('此數是零')\n",
        "else:\n",
        "  print('此數是正數')"
      ],
      "execution_count": null,
      "outputs": [
        {
          "output_type": "stream",
          "text": [
            "請輸入一個數:87\n",
            "此數是正數\n"
          ],
          "name": "stdout"
        }
      ]
    },
    {
      "cell_type": "markdown",
      "metadata": {
        "id": "RxGQLWwTes9j"
      },
      "source": [
        "**練習5   體溫與發燒**\n",
        "\n",
        "設計程式根據體溫判斷是否發燒，由使用者輸入體溫，程式判斷是否發燒，假設體溫小於36度，顯示「體溫過低」，體溫大於等於36度小於38度，顯示「體溫正常」，否則若體溫大於等於38度小於39度，顯示「體溫有點燒」，否則體溫大於等於39度，顯示「體溫很燒」。\n",
        "\n",
        "輸入體溫「36.5」，輸出為「體溫正常」。\n",
        "\n",
        "～程式執行結果如下。\n",
        "\n",
        "請輸入體溫？36.5\n",
        "\n",
        "體溫正常"
      ]
    },
    {
      "cell_type": "code",
      "metadata": {
        "id": "FKYiAjM6es9k",
        "colab": {
          "base_uri": "https://localhost:8080/"
        },
        "outputId": "34ab15a0-e263-4c22-d5b6-93c08facabe6"
      },
      "source": [
        "tem = float(input('請輸入體溫?'))\n",
        "if tem < 36:\n",
        "  print('體溫過低')\n",
        "elif tem < 38:\n",
        "  print('體溫正常')\n",
        "elif tem < 39:\n",
        "  print('體溫有點燒')\n",
        "else:\n",
        "  print('體溫很燒')"
      ],
      "execution_count": 1,
      "outputs": [
        {
          "output_type": "stream",
          "text": [
            "請輸入體溫?36.6\n",
            "體溫正常\n"
          ],
          "name": "stdout"
        }
      ]
    },
    {
      "cell_type": "markdown",
      "metadata": {
        "id": "bZ_KaQ9Nes9k"
      },
      "source": [
        "**練習6  閏年判斷**\n",
        "\n",
        "設計程式允許輸入西元幾年，請求出該年是否是閏年，閏年表示該年多一天，若為4的倍數稱做閏年，但若為100的倍數就不為閏年，且若為400倍數又是閏年。(四年一潤、百年不潤、四百年再潤)\n",
        "\n",
        "輸入年份「2012」，輸出為「2012是閏年」。\n",
        "\n",
        "～程式執行結果如下。\n",
        "\n",
        "請輸入年份？2012\n",
        "\n",
        "2012 是閏年"
      ]
    },
    {
      "cell_type": "code",
      "metadata": {
        "colab": {
          "base_uri": "https://localhost:8080/"
        },
        "id": "9-EVnxu7es9k",
        "outputId": "28929463-f4d0-4e4d-bcb8-77b012b3eaeb"
      },
      "source": [
        "year = int(input('請輸入年份?'))\n",
        "if (year % 4) == 0:\n",
        "   if (year % 100) == 0:\n",
        "       if (year % 400) == 0:\n",
        "           print(year,'是閏年')\n",
        "       else:\n",
        "           print(year,'不是閏年')\n",
        "   else:\n",
        "       print(year,'是閏年')\n",
        "else:\n",
        "   print(year,'不是閏年')"
      ],
      "execution_count": null,
      "outputs": [
        {
          "output_type": "stream",
          "text": [
            "請輸入年份?2021\n",
            "2021 不是閏年\n"
          ],
          "name": "stdout"
        }
      ]
    },
    {
      "cell_type": "markdown",
      "metadata": {
        "id": "4-fSV5yyes9k"
      },
      "source": [
        "**練習12：計程車計費**\n",
        "\n",
        "某城市計程車計費3公里以內6元，超過3公里不足10公里、每公里1.8元，超過10公里則超過部分加收50%。此外停車等候每3分鐘收1元，請用Python寫出車費是多少。"
      ]
    },
    {
      "cell_type": "code",
      "metadata": {
        "id": "P_NO4IT-es9k",
        "colab": {
          "base_uri": "https://localhost:8080/"
        },
        "outputId": "c875802c-f561-40bb-9bc8-d2de724de305"
      },
      "source": [
        "ss = float(input('請輸入里程(KM)?'))\n",
        "tt = float(input('請輸入等候時間(min)?'))\n",
        "if ss <= 3:\n",
        "  pp = 6+tt/3\n",
        "  print('需要支付車費',pp)\n",
        "elif ss <= 10:\n",
        "  pp = ss*1.8+tt/3\n",
        "  print('需要支付車費',pp)\n",
        "else:\n",
        "  pp = 18+(ss-10)*1.5+tt/3\n",
        "  print('需要支付車費',pp)"
      ],
      "execution_count": 2,
      "outputs": [
        {
          "output_type": "stream",
          "text": [
            "請輸入里程(KM)?300\n",
            "請輸入等候時間(min)?30\n",
            "需要支付車費 463.0\n"
          ],
          "name": "stdout"
        }
      ]
    }
  ]
}