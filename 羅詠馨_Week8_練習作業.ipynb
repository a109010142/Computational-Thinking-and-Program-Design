{
  "nbformat": 4,
  "nbformat_minor": 0,
  "metadata": {
    "colab": {
      "name": "羅詠馨-Week8-練習作業.ipynb",
      "provenance": [],
      "authorship_tag": "ABX9TyPAnPU3geh9gRSscM9isG/0",
      "include_colab_link": true
    },
    "kernelspec": {
      "name": "python3",
      "display_name": "Python 3"
    },
    "language_info": {
      "name": "python"
    }
  },
  "cells": [
    {
      "cell_type": "markdown",
      "metadata": {
        "id": "view-in-github",
        "colab_type": "text"
      },
      "source": [
        "<a href=\"https://colab.research.google.com/github/a109010142/Computational-Thinking-and-Program-Design/blob/main/%E7%BE%85%E8%A9%A0%E9%A6%A8_Week8_%E7%B7%B4%E7%BF%92%E4%BD%9C%E6%A5%AD.ipynb\" target=\"_parent\"><img src=\"https://colab.research.google.com/assets/colab-badge.svg\" alt=\"Open In Colab\"/></a>"
      ]
    },
    {
      "cell_type": "markdown",
      "metadata": {
        "id": "XSgcof5Ew5vg"
      },
      "source": [
        "#隨堂練習1"
      ]
    },
    {
      "cell_type": "code",
      "metadata": {
        "colab": {
          "base_uri": "https://localhost:8080/"
        },
        "id": "poYCFPW2wlZm",
        "outputId": "9e8e4a3c-508e-4c4c-91b0-45d46443e8fd"
      },
      "source": [
        "r1=eval(input(\"輸入外圓的直徑:\"))\n",
        "r2=eval(input(\"輸入內圓的直徑:\"))\n",
        "s1=3.14 * r1/2 * r1/2\n",
        "s2=3.14 * r2/2 * r2/2\n",
        "s3=s1-s2\n",
        "print(\"外圓面積為\",s1)\n",
        "print(\"內圓面積為\",s2)\n",
        "print(\"圓環面積為\",s3)"
      ],
      "execution_count": null,
      "outputs": [
        {
          "output_type": "stream",
          "text": [
            "輸入外圓的直徑:6\n",
            "輸入內圓的直徑:3\n",
            "外圓面積為 28.259999999999998\n",
            "內圓面積為 7.0649999999999995\n",
            "圓環面積為 21.195\n"
          ],
          "name": "stdout"
        }
      ]
    },
    {
      "cell_type": "markdown",
      "metadata": {
        "id": "dXlLunrqzWQy"
      },
      "source": [
        "#隨堂練習2"
      ]
    },
    {
      "cell_type": "code",
      "metadata": {
        "colab": {
          "base_uri": "https://localhost:8080/"
        },
        "id": "IZ2CYDSvzcHa",
        "outputId": "3dc04cd6-db17-4a9c-9bbe-48f425a5908b"
      },
      "source": [
        "## Input\n",
        "f = float(input(\"請輸入幾英尺\"))\n",
        "i = float(input(\"輸入幾公尺\"))\n",
        "height = ((f*12)+i)*2.54\n",
        "height"
      ],
      "execution_count": null,
      "outputs": [
        {
          "output_type": "stream",
          "text": [
            "請輸入幾英尺5\n",
            "輸入幾公尺8\n"
          ],
          "name": "stdout"
        },
        {
          "output_type": "execute_result",
          "data": {
            "text/plain": [
              "172.72"
            ]
          },
          "metadata": {
            "tags": []
          },
          "execution_count": 21
        }
      ]
    },
    {
      "cell_type": "markdown",
      "metadata": {
        "id": "EGAyfu0neuCQ"
      },
      "source": [
        "#課後練習1"
      ]
    },
    {
      "cell_type": "code",
      "metadata": {
        "id": "xbqyTy5t3gSw",
        "colab": {
          "base_uri": "https://localhost:8080/"
        },
        "outputId": "cad95218-aad7-412b-a8f6-36b0e03f6fa6"
      },
      "source": [
        "a=input(\"請輸入a的值\")\n",
        "b=input(\"請輸入b的值\")\n",
        "c=a\n",
        "a=b\n",
        "b=c\n",
        "print(\"a=\",a)\n",
        "print(\"b=\",b)"
      ],
      "execution_count": 2,
      "outputs": [
        {
          "output_type": "stream",
          "text": [
            "請輸入a的值11\n",
            "請輸入b的值13\n",
            "a= 13\n",
            "b= 11\n"
          ],
          "name": "stdout"
        }
      ]
    },
    {
      "cell_type": "markdown",
      "metadata": {
        "id": "TKytaA5IgmtE"
      },
      "source": [
        "#課後練習2"
      ]
    },
    {
      "cell_type": "code",
      "metadata": {
        "colab": {
          "base_uri": "https://localhost:8080/"
        },
        "id": "ZTJgMoLogsmi",
        "outputId": "15039192-dbdf-4234-d41b-6fff6100f20f"
      },
      "source": [
        "a=int(input(\"請輸入1號拿到的糖果數\"))\n",
        "b=int(input(\"請輸入2號拿到的糖果數\"))\n",
        "c=int(input(\"請輸入3號拿到的糖果數\"))\n",
        "d=int(input(\"請輸入4號拿到的糖果數\"))\n",
        "e=int(input(\"請輸入5號拿到的糖果數\"))\n",
        "f=int(input(\"請輸入6號拿到的糖果數\"))\n",
        "a//=3\n",
        "b//=3\n",
        "c//=3\n",
        "d//=3\n",
        "e//=3\n",
        "f//=3\n",
        "ta=f+a+b\n",
        "tb=a+b+c\n",
        "tc=b+c+d\n",
        "td=c+d+e\n",
        "te=d+e+f\n",
        "tf=e+f+a\n",
        "print(\"1號最後會剩下\",ta,\"顆\")\n",
        "print(\"2號最後會剩下\",tb,\"顆\")\n",
        "print(\"3號最後會剩下\",tc,\"顆\")\n",
        "print(\"4號最後會剩下\",td,\"顆\")\n",
        "print(\"5號最後會剩下\",te,\"顆\")\n",
        "print(\"6號最後會剩下\",tf,\"顆\")"
      ],
      "execution_count": 8,
      "outputs": [
        {
          "output_type": "stream",
          "text": [
            "請輸入1號拿到的糖果數5\n",
            "請輸入2號拿到的糖果數6\n",
            "請輸入3號拿到的糖果數7\n",
            "請輸入4號拿到的糖果數8\n",
            "請輸入5號拿到的糖果數9\n",
            "請輸入6號拿到的糖果數10\n",
            "1號最後會剩下 6 顆\n",
            "2號最後會剩下 5 顆\n",
            "3號最後會剩下 6 顆\n",
            "4號最後會剩下 7 顆\n",
            "5號最後會剩下 8 顆\n",
            "6號最後會剩下 7 顆\n"
          ],
          "name": "stdout"
        }
      ]
    }
  ]
}