{
  "nbformat": 4,
  "nbformat_minor": 0,
  "metadata": {
    "colab": {
      "name": "羅詠馨-Week4-練習作業.ipynb",
      "provenance": [],
      "authorship_tag": "ABX9TyO61GOhmBJmqIbH3BA8bY9U",
      "include_colab_link": true
    },
    "kernelspec": {
      "name": "python3",
      "display_name": "Python 3"
    }
  },
  "cells": [
    {
      "cell_type": "markdown",
      "metadata": {
        "id": "view-in-github",
        "colab_type": "text"
      },
      "source": [
        "<a href=\"https://colab.research.google.com/github/a109010142/Computational-Thinking-and-Program-Design/blob/main/%E7%BE%85%E8%A9%A0%E9%A6%A8_Week4_%E7%B7%B4%E7%BF%92%E4%BD%9C%E6%A5%AD.ipynb\" target=\"_parent\"><img src=\"https://colab.research.google.com/assets/colab-badge.svg\" alt=\"Open In Colab\"/></a>"
      ]
    },
    {
      "cell_type": "markdown",
      "metadata": {
        "id": "n9uBzOyxZmkS"
      },
      "source": [
        "#隨堂練習"
      ]
    },
    {
      "cell_type": "markdown",
      "metadata": {
        "id": "ZEuWTaxkXvXv"
      },
      "source": [
        "#課後練習\r\n"
      ]
    },
    {
      "cell_type": "markdown",
      "metadata": {
        "id": "LRbztZBpX95p"
      },
      "source": [
        "**從一則新聞報導，提出你對新聞系學生為什麼要學「運算思維與程式設計」的見解。"
      ]
    },
    {
      "cell_type": "code",
      "metadata": {
        "id": "IsV7SIyjYSW4"
      },
      "source": [
        ""
      ],
      "execution_count": null,
      "outputs": []
    }
  ]
}