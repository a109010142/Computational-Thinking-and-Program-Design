{
  "nbformat": 4,
  "nbformat_minor": 0,
  "metadata": {
    "colab": {
      "name": "羅詠馨-Week4-練習作業.ipynb",
      "provenance": [],
      "collapsed_sections": [],
      "authorship_tag": "ABX9TyOH955l1WOH/JM+m0gZhMQD",
      "include_colab_link": true
    },
    "kernelspec": {
      "name": "python3",
      "display_name": "Python 3"
    }
  },
  "cells": [
    {
      "cell_type": "markdown",
      "metadata": {
        "id": "view-in-github",
        "colab_type": "text"
      },
      "source": [
        "<a href=\"https://colab.research.google.com/github/a109010142/Computational-Thinking-and-Program-Design/blob/main/%E7%BE%85%E8%A9%A0%E9%A6%A8_Week4_%E7%B7%B4%E7%BF%92%E4%BD%9C%E6%A5%AD.ipynb\" target=\"_parent\"><img src=\"https://colab.research.google.com/assets/colab-badge.svg\" alt=\"Open In Colab\"/></a>"
      ]
    },
    {
      "cell_type": "markdown",
      "metadata": {
        "id": "n9uBzOyxZmkS"
      },
      "source": [
        "#隨堂練習"
      ]
    },
    {
      "cell_type": "markdown",
      "metadata": {
        "id": "ZEuWTaxkXvXv"
      },
      "source": [
        "#課後練習\n"
      ]
    },
    {
      "cell_type": "markdown",
      "metadata": {
        "id": "LRbztZBpX95p"
      },
      "source": [
        "**從一則新聞報導，提出你對新聞系學生為什麼要學「運算思維與程式設計」的見解。"
      ]
    },
    {
      "cell_type": "markdown",
      "metadata": {
        "id": "l4qDirBYD3Zk"
      },
      "source": [
        "我覺得學程式設計是現代年輕人著實需要必備的技能，念到大一下，對新聞這門科系我倒沒有不喜歡或討厭，但想到未來出社會，一個學新聞四年的人，要是只單純學「新聞」這塊真的太單薄，撇開社會期待的一口流利英語能力外，我想最加分的技能，大概就是懂程式語言的社會新鮮人了。能和電腦語言接軌的人們，也是大老闆爭先恐後想納入公司的人才類型之一吧！\n",
        "影片連結：https://www.youtube.com/watch?v=ioEC3Q8-YmQ\n",
        "這則新聞讓我得知大學畢業VS休學程式天才\n",
        "後者能賺的薪水是可以比前者多不少的。"
      ]
    }
  ]
}