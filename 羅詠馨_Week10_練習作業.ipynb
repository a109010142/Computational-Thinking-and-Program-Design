{
  "nbformat": 4,
  "nbformat_minor": 0,
  "metadata": {
    "colab": {
      "name": "羅詠馨-Week10-練習作業.ipynb",
      "provenance": [],
      "authorship_tag": "ABX9TyNy/JfBqEtaulCTGY9ABCTo",
      "include_colab_link": true
    },
    "kernelspec": {
      "name": "python3",
      "display_name": "Python 3"
    },
    "language_info": {
      "name": "python"
    }
  },
  "cells": [
    {
      "cell_type": "markdown",
      "metadata": {
        "id": "view-in-github",
        "colab_type": "text"
      },
      "source": [
        "<a href=\"https://colab.research.google.com/github/a109010142/Computational-Thinking-and-Program-Design/blob/main/%E7%BE%85%E8%A9%A0%E9%A6%A8_Week10_%E7%B7%B4%E7%BF%92%E4%BD%9C%E6%A5%AD.ipynb\" target=\"_parent\"><img src=\"https://colab.research.google.com/assets/colab-badge.svg\" alt=\"Open In Colab\"/></a>"
      ]
    },
    {
      "cell_type": "markdown",
      "metadata": {
        "id": "d9JQGYpzw8Oy"
      },
      "source": [
        "##練習1"
      ]
    },
    {
      "cell_type": "code",
      "metadata": {
        "colab": {
          "base_uri": "https://localhost:8080/"
        },
        "id": "CYsTcJRDwfU_",
        "outputId": "cce3e718-6ded-4c6b-c941-3c5660e096f3"
      },
      "source": [
        "## Input Data\n",
        "\n",
        "total=0\n",
        "total=total+(6*60+32)\n",
        "total=total+(7*60+21)\n",
        "total=total+(5*60+51)\n",
        "total=total+(7*60+3)\n",
        "total=total+(5*60+48)\n",
        "total\n",
        "minutes=total//60\n",
        "seconds=total%60\n",
        "\n",
        "print(f\"跑步時間為{minutes}分鐘{seconds}秒\")"
      ],
      "execution_count": 1,
      "outputs": [
        {
          "output_type": "stream",
          "text": [
            "跑步時間為32分鐘35秒\n"
          ],
          "name": "stdout"
        }
      ]
    },
    {
      "cell_type": "markdown",
      "metadata": {
        "id": "GC_4w2RjzAHN"
      },
      "source": [
        "##練習2"
      ]
    },
    {
      "cell_type": "code",
      "metadata": {
        "colab": {
          "base_uri": "https://localhost:8080/"
        },
        "id": "VHVGLx14zCs7",
        "outputId": "2409f907-23aa-4771-f62e-70062ae77a00"
      },
      "source": [
        "#將123分鐘轉成2小時3分鐘\n",
        "##1.建立變數，輸入資料並儲存\n",
        "time=123\n",
        "\n",
        "hours2=time//60 #商數為小時數\n",
        "minutes2=time%60 #餘數為分鐘數\n",
        "hours1=int(hours) #取整數為「時」\n",
        "\n",
        "##3.顯示結果\n",
        "print(time,\"is equal to\",hours2,\"Hours and\",minutes2,\"Minutes\")"
      ],
      "execution_count": 3,
      "outputs": [
        {
          "output_type": "stream",
          "text": [
            "123 is equal to 2 Hours and 3 Minutes\n"
          ],
          "name": "stdout"
        }
      ]
    },
    {
      "cell_type": "markdown",
      "metadata": {
        "id": "qF85FCAK4yxk"
      },
      "source": [
        "##練習3"
      ]
    },
    {
      "cell_type": "code",
      "metadata": {
        "colab": {
          "base_uri": "https://localhost:8080/"
        },
        "id": "uONck1v141lQ",
        "outputId": "c7e622f7-60f1-4689-860d-170198373e0d"
      },
      "source": [
        "seats = int(input('請輸入座號?')) #文字轉數字\n",
        "groups = (seats - 1)//5 + 1\n",
        "print('組別為', groups)\n",
        "seats = int(input(\"請輸入座號?\"))\n",
        "groups = (seats//5)\n",
        "print(\"組別為\",groups)\n",
        "seats = int(input(\"請輸入座號? \"))\n",
        "print(\"組別為\", seats//5)"
      ],
      "execution_count": 9,
      "outputs": [
        {
          "output_type": "stream",
          "text": [
            "請輸入座號?18\n",
            "組別為 4\n",
            "請輸入座號?24\n",
            "組別為 4\n",
            "請輸入座號? 40\n",
            "組別為 8\n"
          ],
          "name": "stdout"
        }
      ]
    }
  ]
}