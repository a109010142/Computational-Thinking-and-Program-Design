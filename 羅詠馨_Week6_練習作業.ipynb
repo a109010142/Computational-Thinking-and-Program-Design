{
  "nbformat": 4,
  "nbformat_minor": 0,
  "metadata": {
    "colab": {
      "name": "羅詠馨-Week6-練習作業.ipynb",
      "provenance": [],
      "collapsed_sections": [],
      "authorship_tag": "ABX9TyOtd+POOEbXG59t62gyjJFZ",
      "include_colab_link": true
    },
    "kernelspec": {
      "name": "python3",
      "display_name": "Python 3"
    },
    "language_info": {
      "name": "python"
    }
  },
  "cells": [
    {
      "cell_type": "markdown",
      "metadata": {
        "id": "view-in-github",
        "colab_type": "text"
      },
      "source": [
        "<a href=\"https://colab.research.google.com/github/a109010142/Computational-Thinking-and-Program-Design/blob/main/%E7%BE%85%E8%A9%A0%E9%A6%A8_Week6_%E7%B7%B4%E7%BF%92%E4%BD%9C%E6%A5%AD.ipynb\" target=\"_parent\"><img src=\"https://colab.research.google.com/assets/colab-badge.svg\" alt=\"Open In Colab\"/></a>"
      ]
    },
    {
      "cell_type": "markdown",
      "metadata": {
        "id": "ZXC_VGG_gT7L"
      },
      "source": [
        "#隨堂練習"
      ]
    },
    {
      "cell_type": "code",
      "metadata": {
        "colab": {
          "base_uri": "https://localhost:8080/"
        },
        "id": "WbCho8zlf9Fe",
        "outputId": "d71d0d02-9cb2-44e6-868d-2722c537ca33"
      },
      "source": [
        "a = 1\n",
        "print(\"a = \", a)\n",
        "print(1,2,3,4,5, sep = \",\", end = \"school\")"
      ],
      "execution_count": null,
      "outputs": [
        {
          "output_type": "stream",
          "text": [
            "a =  1\n",
            "1,2,3,4,5school"
          ],
          "name": "stdout"
        }
      ]
    },
    {
      "cell_type": "code",
      "metadata": {
        "colab": {
          "base_uri": "https://localhost:8080/"
        },
        "id": "t92YRdDroF70",
        "outputId": "41075def-478e-4665-cfe9-ffb6d226fec2"
      },
      "source": [
        "a = int(input(\"請輸入a = \"))\n",
        "b = int(input(\"請輸入b = \"))\n",
        "print(\"a + b = \",a + b)\n",
        "print(\"a - b = \",a - b)\n",
        "print(\"a * b = \",a * b)\n",
        "print(\"a / b = \",a / b)\n",
        "print(\"a // b = \",a // b)\n",
        "print(\"a % b = \",a % b)\n",
        "print(\"a ** b = \", a**b)"
      ],
      "execution_count": null,
      "outputs": [
        {
          "output_type": "stream",
          "text": [
            "請輸入a = 3\n",
            "請輸入b = 6\n",
            "a + b =  9\n",
            "a - b =  -3\n",
            "a * b =  18\n",
            "a / b =  0.5\n",
            "a // b =  0\n",
            "a % b =  3\n",
            "a ** b =  729\n"
          ],
          "name": "stdout"
        }
      ]
    },
    {
      "cell_type": "markdown",
      "metadata": {
        "id": "vyzVNKWKmoou"
      },
      "source": [
        "#加分作業"
      ]
    },
    {
      "cell_type": "code",
      "metadata": {
        "colab": {
          "base_uri": "https://localhost:8080/"
        },
        "id": "dpdcci4Pmrt3",
        "outputId": "8587da07-9a7c-407f-c3b7-74f228f79377"
      },
      "source": [
        "name = \"Cindy\"\n",
        "adjective = \"tasty\"\n",
        "favorite_snack = \"ice cream\"\n",
        "number = \"1\"\n",
        "typeoftree = \"green tree\"\n",
        "\n",
        "silly_story = f\"\"\"\n",
        "Hi,my name is {name}. I really like {adjective} {favorite_snack}！\n",
        "I like it so much, I try to eat it at least {1} time every week.\n",
        "It tastes even better when you eat it under a {typeoftree}！\n",
        "\"\"\"\n",
        "\n",
        "print(silly_story)\n"
      ],
      "execution_count": null,
      "outputs": [
        {
          "output_type": "stream",
          "text": [
            "\n",
            "Hi,my name is Cindy. I really like tasty ice cream！\n",
            "I like it so much, I try to eat it at least 1 time every week.\n",
            "It tastes even better when you eat it under a green tree！\n",
            "\n"
          ],
          "name": "stdout"
        }
      ]
    },
    {
      "cell_type": "markdown",
      "metadata": {
        "id": "42zKOIaHtCWn"
      },
      "source": [
        "#回家作業"
      ]
    },
    {
      "cell_type": "markdown",
      "metadata": {
        "id": "HoYEOJwOt5Kd"
      },
      "source": [
        "有一天,一隻小猴子來到果園裡,牠走道蘋果樹下,看到滿樹的蘋果,就爬上去摘了\n",
        "2個。又看到不滿的地方有一個梨子樹,又大又黃,就丟掉蘋果,爬到梨子樹摘了1\n",
        "個梨子。正準備吃的時候,看到前方又紅又大的桃子樹,就又高高興興地跑到桃樹\n",
        "上,摘了3個桃子。這時傳來小鳥的叫聲,鳥在香蕉樹上,當然就立馬飛奔去摘香\n",
        "蕉,最後吃了6根香蕉。請問這隻猴子摘了多少個水果,手中最後的水果是什麼?請\n",
        "你用Python記錄一下!"
      ]
    },
    {
      "cell_type": "code",
      "metadata": {
        "colab": {
          "base_uri": "https://localhost:8080/"
        },
        "id": "IMvssOTst7kV",
        "outputId": "2324bb4c-0993-4097-bead-59b4e641f74c"
      },
      "source": [
        "Sum=0\n",
        "peach=1+3\n",
        "apple=2\n",
        "banana=6\n",
        "Sum=peach+apple+banana\n",
        "print(Sum)\n",
        "print(banana)"
      ],
      "execution_count": null,
      "outputs": [
        {
          "output_type": "stream",
          "text": [
            "12\n",
            "6\n"
          ],
          "name": "stdout"
        }
      ]
    },
    {
      "cell_type": "markdown",
      "metadata": {
        "id": "k605l_ah41Uq"
      },
      "source": [
        "#練習4是真的嗎？網路資料不輕信"
      ]
    },
    {
      "cell_type": "markdown",
      "metadata": {
        "id": "52ZNaomZ4fN5"
      },
      "source": [
        "（1）錯，僅0跟1表true false\n",
        "（2）對"
      ]
    },
    {
      "cell_type": "code",
      "metadata": {
        "colab": {
          "base_uri": "https://localhost:8080/"
        },
        "id": "g6uCiePf5AKl",
        "outputId": "052ba1af-f773-492b-a103-9512f6592a1d"
      },
      "source": [
        "x=float(input('請輸入目前溫度:'))\n",
        "y=float(input('請輸入目前室外相對濕度(%):'))\n",
        "z=x+y/100\n",
        "print('危險係數為:%f'%(z))"
      ],
      "execution_count": null,
      "outputs": [
        {
          "output_type": "stream",
          "text": [
            "請輸入目前溫度:27\n",
            "請輸入目前室外相對濕度(%):50\n",
            "危險係數為:27.500000\n"
          ],
          "name": "stdout"
        }
      ]
    }
  ]
}