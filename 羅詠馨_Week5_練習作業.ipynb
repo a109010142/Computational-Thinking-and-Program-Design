{
  "nbformat": 4,
  "nbformat_minor": 0,
  "metadata": {
    "colab": {
      "name": "羅詠馨-Week5-練習作業.ipynb",
      "provenance": [],
      "collapsed_sections": [],
      "authorship_tag": "ABX9TyM45MExrem9nCls/31ixChs",
      "include_colab_link": true
    },
    "kernelspec": {
      "name": "python3",
      "display_name": "Python 3"
    },
    "language_info": {
      "name": "python"
    }
  },
  "cells": [
    {
      "cell_type": "markdown",
      "metadata": {
        "id": "view-in-github",
        "colab_type": "text"
      },
      "source": [
        "<a href=\"https://colab.research.google.com/github/a109010142/Computational-Thinking-and-Program-Design/blob/main/%E7%BE%85%E8%A9%A0%E9%A6%A8_Week5_%E7%B7%B4%E7%BF%92%E4%BD%9C%E6%A5%AD.ipynb\" target=\"_parent\"><img src=\"https://colab.research.google.com/assets/colab-badge.svg\" alt=\"Open In Colab\"/></a>"
      ]
    },
    {
      "cell_type": "markdown",
      "metadata": {
        "id": "ugySvHDyZqJX"
      },
      "source": [
        "#序列主題(一)：變數賦值與輸入輸出"
      ]
    },
    {
      "cell_type": "markdown",
      "metadata": {
        "id": "k1pqHixcaFMK"
      },
      "source": [
        "#1.自由練習"
      ]
    },
    {
      "cell_type": "code",
      "metadata": {
        "colab": {
          "base_uri": "https://localhost:8080/"
        },
        "id": "bZFE2-klaHcL",
        "outputId": "bc356076-9ab3-4bb1-f9fc-63e697e127dc"
      },
      "source": [
        "Sum=0\n",
        "A=1\n",
        "B=2\n",
        "Sum=A+B\n",
        "print(Sum)"
      ],
      "execution_count": null,
      "outputs": [
        {
          "output_type": "stream",
          "text": [
            "3\n"
          ],
          "name": "stdout"
        }
      ]
    },
    {
      "cell_type": "code",
      "metadata": {
        "colab": {
          "base_uri": "https://localhost:8080/"
        },
        "id": "gphA54IJiOK0",
        "outputId": "5468c698-a207-42b6-89ad-7d77330c31ee"
      },
      "source": [
        "# 練習\n",
        "print(87)\n",
        "print(8.7)\n",
        "\n",
        "hello_py1 = 'Hello Python!'\n",
        "hello_py2 = \"Hello Python\"\n",
        "print(hello_py1)\n",
        "print(hello_py2)\n",
        "\n",
        "es1 = \"I'm a student.\"\n",
        "es2 = \"I\\'m a student.\"\n",
        "es3 = 'I\\'m a student.'\n",
        "print(es1, es2, es3)\n",
        "\n",
        "print(True)\n",
        "print(False)"
      ],
      "execution_count": null,
      "outputs": [
        {
          "output_type": "stream",
          "text": [
            "87\n",
            "8.7\n",
            "Hello Python!\n",
            "Hello Python\n",
            "I'm a student. I'm a student. I'm a student.\n",
            "True\n",
            "False\n"
          ],
          "name": "stdout"
        }
      ]
    },
    {
      "cell_type": "code",
      "metadata": {
        "colab": {
          "base_uri": "https://localhost:8080/"
        },
        "id": "Z4PH5faYq_qP",
        "outputId": "feca5f0a-b6d8-49e8-9e8f-f91f241e3d71"
      },
      "source": [
        "number = input(\"Enter Your Number: \")\n",
        "number = int(number)\n",
        "print(number + 100)"
      ],
      "execution_count": null,
      "outputs": [
        {
          "output_type": "stream",
          "text": [
            "Enter Your Number: 111\n",
            "211\n"
          ],
          "name": "stdout"
        }
      ]
    },
    {
      "cell_type": "markdown",
      "metadata": {
        "id": "U0GqTDp8GF8o"
      },
      "source": [
        "#2.加分作業"
      ]
    },
    {
      "cell_type": "code",
      "metadata": {
        "colab": {
          "base_uri": "https://localhost:8080/"
        },
        "id": "Uaj63CqkGB56",
        "outputId": "303bad7c-51e3-4941-94a0-57e2bec155e0"
      },
      "source": [
        "print(\"Hello,my name is Cindy.I was born in 2002.\")\n",
        "name = \"Cindy\"\n",
        "age = 2021-2002\n",
        "print(f\"Hi,my name is\",name,\"and I am \",age,\"years old\") "
      ],
      "execution_count": null,
      "outputs": [
        {
          "output_type": "stream",
          "text": [
            "Hello,my name is Cindy.I was born in 2002.\n",
            "Hi,my name is Cindy and I am  19 years old\n"
          ],
          "name": "stdout"
        }
      ]
    },
    {
      "cell_type": "code",
      "metadata": {
        "colab": {
          "base_uri": "https://localhost:8080/"
        },
        "id": "Ao1JXot0H2Ct",
        "outputId": "94004580-0ea0-483a-d4c1-c77b665cad67"
      },
      "source": [
        "print('\\\"Believe in yourself.\\\" - Cindy')"
      ],
      "execution_count": null,
      "outputs": [
        {
          "output_type": "stream",
          "text": [
            "\"Believe in yourself.\" - Cindy\n"
          ],
          "name": "stdout"
        }
      ]
    }
  ]
}