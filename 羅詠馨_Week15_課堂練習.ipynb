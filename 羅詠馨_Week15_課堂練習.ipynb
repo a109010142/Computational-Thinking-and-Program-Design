{
  "nbformat": 4,
  "nbformat_minor": 0,
  "metadata": {
    "colab": {
      "name": "羅詠馨 - Week15 - 課堂練習.ipynb",
      "provenance": [],
      "collapsed_sections": [],
      "authorship_tag": "ABX9TyMPXLTvMvmr9VEOG9rOUhJE",
      "include_colab_link": true
    },
    "kernelspec": {
      "name": "python3",
      "display_name": "Python 3"
    },
    "language_info": {
      "name": "python"
    }
  },
  "cells": [
    {
      "cell_type": "markdown",
      "metadata": {
        "id": "view-in-github",
        "colab_type": "text"
      },
      "source": [
        "<a href=\"https://colab.research.google.com/github/a109010142/Computational-Thinking-and-Program-Design/blob/main/%E7%BE%85%E8%A9%A0%E9%A6%A8_Week15_%E8%AA%B2%E5%A0%82%E7%B7%B4%E7%BF%92.ipynb\" target=\"_parent\"><img src=\"https://colab.research.google.com/assets/colab-badge.svg\" alt=\"Open In Colab\"/></a>"
      ]
    },
    {
      "cell_type": "markdown",
      "metadata": {
        "id": "EOMzv4REOT8F"
      },
      "source": [
        "##加分題：棒打老虎雞吃蟲"
      ]
    },
    {
      "cell_type": "code",
      "metadata": {
        "colab": {
          "base_uri": "https://localhost:8080/"
        },
        "id": "kDyF6TUBfAC4",
        "outputId": "19830d96-bc2c-43df-bbaf-dd4b3552b65f"
      },
      "source": [
        "my_choice = int(input(\"請出拳[0]蟲[1]雞[2]老虎[3]棒子\"))\n",
        "print(\"你出的拳:\",my_choice)\n",
        "import random\n",
        "com_choice = random.randint(0,3)\n",
        "print(\"電腦出拳為\",com_choice)\n",
        "\n",
        "#後面勝前面，其他平手\n",
        "if my_choice == (com_choice + 1) % 4:\n",
        " print(\"我贏了\")\n",
        "elif com_choice == (my_choice + 1) % 4:\n",
        " print(\"電腦贏了\")\n",
        "else:\n",
        " print(\"平手\")"
      ],
      "execution_count": 6,
      "outputs": [
        {
          "output_type": "stream",
          "text": [
            "請出拳[0]蟲[1]雞[2]老虎[3]棒子3\n",
            "你出的拳: 3\n",
            "電腦出拳為 2\n",
            "我贏了\n"
          ],
          "name": "stdout"
        }
      ]
    }
  ]
}